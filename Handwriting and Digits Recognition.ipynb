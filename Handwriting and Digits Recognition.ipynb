{
 "cells": [
  {
   "cell_type": "code",
   "execution_count": 1,
   "id": "d94095f0",
   "metadata": {},
   "outputs": [],
   "source": [
    "import tensorflow.keras as keras\n",
    "from tensorflow.keras import layers\n",
    "from tensorflow.keras.layers import Dense, Dropout\n",
    "import matplotlib.pyplot as plt\n",
    "%matplotlib inline"
   ]
  },
  {
   "cell_type": "code",
   "execution_count": 2,
   "id": "704324b8",
   "metadata": {},
   "outputs": [],
   "source": [
    "import tensorflow.keras.datasets.mnist as mnist"
   ]
  },
  {
   "cell_type": "code",
   "execution_count": 3,
   "id": "54ea3118",
   "metadata": {},
   "outputs": [],
   "source": [
    "(train_image,train_label),(test_image,test_label) = mnist.load_data()"
   ]
  },
  {
   "cell_type": "code",
   "execution_count": 4,
   "id": "b2d8d0b5",
   "metadata": {},
   "outputs": [
    {
     "data": {
      "text/plain": [
       "(60000, 28, 28)"
      ]
     },
     "execution_count": 4,
     "metadata": {},
     "output_type": "execute_result"
    }
   ],
   "source": [
    "train_image.shape"
   ]
  },
  {
   "cell_type": "code",
   "execution_count": 5,
   "id": "269d8f84",
   "metadata": {},
   "outputs": [
    {
     "data": {
      "text/plain": [
       "<matplotlib.image.AxesImage at 0x272b8db3490>"
      ]
     },
     "execution_count": 5,
     "metadata": {},
     "output_type": "execute_result"
    },
    {
     "data": {
      "image/png": "[encoded data removed]",
      "text/plain": [
       "<Figure size 432x288 with 1 Axes>"
      ]
     },
     "metadata": {
      "needs_background": "light"
     },
     "output_type": "display_data"
    }
   ],
   "source": [
    "plt.imshow(train_image[0])"
   ]
  },
  {
   "cell_type": "code",
   "execution_count": 6,
   "id": "0fac4c44",
   "metadata": {},
   "outputs": [
    {
     "data": {
      "text/plain": [
       "5"
      ]
     },
     "execution_count": 6,
     "metadata": {},
     "output_type": "execute_result"
    }
   ],
   "source": [
    "train_label[0]"
   ]
  },
  {
   "cell_type": "code",
   "execution_count": 7,
   "id": "5222ce76",
   "metadata": {},
   "outputs": [],
   "source": [
    "model=keras.Sequential()"
   ]
  },
  {
   "cell_type": "code",
   "execution_count": 8,
   "id": "3ae142aa",
   "metadata": {},
   "outputs": [],
   "source": [
    "model.add(layers.Flatten()) #从(60000,28,28) → (60000,28*28)2"
   ]
  },
  {
   "cell_type": "code",
   "execution_count": 9,
   "id": "f060b398",
   "metadata": {},
   "outputs": [],
   "source": [
    "model.add(layers.Dense(64,activation='relu'))"
   ]
  },
  {
   "cell_type": "code",
   "execution_count": 10,
   "id": "1e8f7a0e",
   "metadata": {},
   "outputs": [],
   "source": [
    "model.add(layers.Dense(10,activation='softmax'))"
   ]
  },
  {
   "cell_type": "code",
   "execution_count": 11,
   "id": "d341d2f9",
   "metadata": {},
   "outputs": [],
   "source": [
    "model.compile(optimizer='adam',\n",
    "             loss='sparse_categorical_crossentropy',\n",
    "             metrics=['acc'])"
   ]
  },
  {
   "cell_type": "code",
   "execution_count": 12,
   "id": "3529bf6d",
   "metadata": {
    "scrolled": true
   },
   "outputs": [
    {
     "name": "stdout",
     "output_type": "stream",
     "text": [
      "Epoch 1/50\n",
      "118/118 [==============================] - 0s 4ms/step - loss: 12.0620 - acc: 0.7499\n",
      "Epoch 2/50\n",
      "118/118 [==============================] - 0s 3ms/step - loss: 1.5602 - acc: 0.8266\n",
      "Epoch 3/50\n",
      "118/118 [==============================] - 0s 3ms/step - loss: 0.8094 - acc: 0.8486\n",
      "Epoch 4/50\n",
      "118/118 [==============================] - 0s 3ms/step - loss: 0.6082 - acc: 0.8724\n",
      "Epoch 5/50\n",
      "118/118 [==============================] - 0s 3ms/step - loss: 0.5062 - acc: 0.8867\n",
      "Epoch 6/50\n",
      "118/118 [==============================] - 0s 3ms/step - loss: 0.4259 - acc: 0.9014\n",
      "Epoch 7/50\n",
      "118/118 [==============================] - 0s 3ms/step - loss: 0.3736 - acc: 0.9098\n",
      "Epoch 8/50\n",
      "118/118 [==============================] - 0s 3ms/step - loss: 0.3306 - acc: 0.9180\n",
      "Epoch 9/50\n",
      "118/118 [==============================] - 0s 3ms/step - loss: 0.2979 - acc: 0.9244\n",
      "Epoch 10/50\n",
      "118/118 [==============================] - 0s 3ms/step - loss: 0.2695 - acc: 0.9294\n",
      "Epoch 11/50\n",
      "118/118 [==============================] - 0s 3ms/step - loss: 0.2458 - acc: 0.9324\n",
      "Epoch 12/50\n",
      "118/118 [==============================] - 0s 3ms/step - loss: 0.2260 - acc: 0.9376\n",
      "Epoch 13/50\n",
      "118/118 [==============================] - 0s 3ms/step - loss: 0.2102 - acc: 0.9415\n",
      "Epoch 14/50\n",
      "118/118 [==============================] - 0s 3ms/step - loss: 0.1949 - acc: 0.9446\n",
      "Epoch 15/50\n",
      "118/118 [==============================] - 0s 3ms/step - loss: 0.1814 - acc: 0.9480\n",
      "Epoch 16/50\n",
      "118/118 [==============================] - 0s 3ms/step - loss: 0.1699 - acc: 0.9503\n",
      "Epoch 17/50\n",
      "118/118 [==============================] - 0s 3ms/step - loss: 0.1611 - acc: 0.9528\n",
      "Epoch 18/50\n",
      "118/118 [==============================] - 0s 3ms/step - loss: 0.1502 - acc: 0.9550\n",
      "Epoch 19/50\n",
      "118/118 [==============================] - 0s 3ms/step - loss: 0.1441 - acc: 0.9563\n",
      "Epoch 20/50\n",
      "118/118 [==============================] - 0s 3ms/step - loss: 0.1379 - acc: 0.9578\n",
      "Epoch 21/50\n",
      "118/118 [==============================] - 0s 3ms/step - loss: 0.1286 - acc: 0.9607\n",
      "Epoch 22/50\n",
      "118/118 [==============================] - 0s 3ms/step - loss: 0.1237 - acc: 0.9620\n",
      "Epoch 23/50\n",
      "118/118 [==============================] - 0s 3ms/step - loss: 0.1201 - acc: 0.9635\n",
      "Epoch 24/50\n",
      "118/118 [==============================] - 0s 3ms/step - loss: 0.1136 - acc: 0.9641\n",
      "Epoch 25/50\n",
      "118/118 [==============================] - 0s 3ms/step - loss: 0.1111 - acc: 0.9656\n",
      "Epoch 26/50\n",
      "118/118 [==============================] - 0s 3ms/step - loss: 0.1047 - acc: 0.9671\n",
      "Epoch 27/50\n",
      "118/118 [==============================] - 0s 3ms/step - loss: 0.1038 - acc: 0.9677\n",
      "Epoch 28/50\n",
      "118/118 [==============================] - 0s 3ms/step - loss: 0.0997 - acc: 0.9683\n",
      "Epoch 29/50\n",
      "118/118 [==============================] - 0s 3ms/step - loss: 0.0987 - acc: 0.9691\n",
      "Epoch 30/50\n",
      "118/118 [==============================] - 0s 3ms/step - loss: 0.0948 - acc: 0.9705\n",
      "Epoch 31/50\n",
      "118/118 [==============================] - 0s 3ms/step - loss: 0.0912 - acc: 0.9710\n",
      "Epoch 32/50\n",
      "118/118 [==============================] - 0s 3ms/step - loss: 0.0914 - acc: 0.9714\n",
      "Epoch 33/50\n",
      "118/118 [==============================] - 0s 3ms/step - loss: 0.0916 - acc: 0.9707\n",
      "Epoch 34/50\n",
      "118/118 [==============================] - 0s 3ms/step - loss: 0.0843 - acc: 0.9731\n",
      "Epoch 35/50\n",
      "118/118 [==============================] - 0s 3ms/step - loss: 0.0815 - acc: 0.9748\n",
      "Epoch 36/50\n",
      "118/118 [==============================] - 0s 3ms/step - loss: 0.0793 - acc: 0.9747\n",
      "Epoch 37/50\n",
      "118/118 [==============================] - 0s 3ms/step - loss: 0.0787 - acc: 0.9755\n",
      "Epoch 38/50\n",
      "118/118 [==============================] - 0s 3ms/step - loss: 0.0775 - acc: 0.9761\n",
      "Epoch 39/50\n",
      "118/118 [==============================] - 0s 3ms/step - loss: 0.0737 - acc: 0.9764\n",
      "Epoch 40/50\n",
      "118/118 [==============================] - 0s 3ms/step - loss: 0.0765 - acc: 0.9760\n",
      "Epoch 41/50\n",
      "118/118 [==============================] - 0s 3ms/step - loss: 0.0709 - acc: 0.9776\n",
      "Epoch 42/50\n",
      "118/118 [==============================] - 0s 3ms/step - loss: 0.0683 - acc: 0.9779\n",
      "Epoch 43/50\n",
      "118/118 [==============================] - 0s 3ms/step - loss: 0.0685 - acc: 0.9777\n",
      "Epoch 44/50\n",
      "118/118 [==============================] - 0s 3ms/step - loss: 0.0697 - acc: 0.9774\n",
      "Epoch 45/50\n",
      "118/118 [==============================] - 0s 3ms/step - loss: 0.0683 - acc: 0.9779\n",
      "Epoch 46/50\n",
      "118/118 [==============================] - 0s 3ms/step - loss: 0.0687 - acc: 0.9780\n",
      "Epoch 47/50\n",
      "118/118 [==============================] - 0s 3ms/step - loss: 0.0662 - acc: 0.9784\n",
      "Epoch 48/50\n",
      "118/118 [==============================] - 0s 3ms/step - loss: 0.0740 - acc: 0.9769\n",
      "Epoch 49/50\n",
      "118/118 [==============================] - 0s 3ms/step - loss: 0.0709 - acc: 0.9778\n",
      "Epoch 50/50\n",
      "118/118 [==============================] - 0s 3ms/step - loss: 0.0707 - acc: 0.9779\n"
     ]
    },
    {
     "data": {
      "text/plain": [
       "<tensorflow.python.keras.callbacks.History at 0x272b9677d00>"
      ]
     },
     "execution_count": 12,
     "metadata": {},
     "output_type": "execute_result"
    }
   ],
   "source": [
    "model.fit(train_image,train_label,epochs=50,batch_size=512) \n",
    "#计算机每batch计算力有限，限制每次训练的数量512张，所有图片训练50次\n",
    "#batch过小会导致模型误差大，无法识别到特例引起的误差"
   ]
  },
  {
   "cell_type": "code",
   "execution_count": 13,
   "id": "a9c8245a",
   "metadata": {},
   "outputs": [
    {
     "name": "stdout",
     "output_type": "stream",
     "text": [
      "313/313 [==============================] - 0s 562us/step - loss: 0.3263 - acc: 0.9525\n"
     ]
    },
    {
     "data": {
      "text/plain": [
       "[0.32629501819610596, 0.9524999856948853]"
      ]
     },
     "execution_count": 13,
     "metadata": {},
     "output_type": "execute_result"
    }
   ],
   "source": [
    "model.evaluate(test_image,test_label)"
   ]
  },
  {
   "cell_type": "code",
   "execution_count": 14,
   "id": "ca58a236",
   "metadata": {},
   "outputs": [],
   "source": [
    "import numpy as np"
   ]
  },
  {
   "cell_type": "code",
   "execution_count": 15,
   "id": "9497611f",
   "metadata": {},
   "outputs": [
    {
     "data": {
      "text/plain": [
       "array([7, 2, 1, 0, 4, 1, 4, 9, 6, 9], dtype=int64)"
      ]
     },
     "execution_count": 15,
     "metadata": {},
     "output_type": "execute_result"
    }
   ],
   "source": [
    "np.argmax(model.predict(test_image[:10]),axis=1) #argmax输出每个列表中最大值的索引值"
   ]
  },
  {
   "cell_type": "code",
   "execution_count": 16,
   "id": "b4135676",
   "metadata": {},
   "outputs": [
    {
     "data": {
      "text/plain": [
       "array([7, 2, 1, 0, 4, 1, 4, 9, 5, 9], dtype=uint8)"
      ]
     },
     "execution_count": 16,
     "metadata": {},
     "output_type": "execute_result"
    }
   ],
   "source": [
    "test_label[:10]"
   ]
  },
  {
   "cell_type": "markdown",
   "id": "0d37ad49",
   "metadata": {},
   "source": [
    "#模型优化"
   ]
  },
  {
   "cell_type": "code",
   "execution_count": 17,
   "id": "845254da",
   "metadata": {},
   "outputs": [],
   "source": [
    "model=keras.Sequential()\n",
    "model.add(layers.Flatten()) #从(60000,28,28) → (60000,28*28)\n",
    "model.add(layers.Dense(512,activation='relu'))\n",
    "model.add(Dropout(0.05))\n",
    "model.add(layers.Dense(400,activation='relu'))\n",
    "model.add(Dropout(0.05))\n",
    "model.add(layers.Dense(320,activation='relu'))\n",
    "model.add(Dropout(0.05))\n",
    "model.add(layers.Dense(256,activation='relu'))\n",
    "model.add(Dropout(0.05))\n",
    "model.add(layers.Dense(128,activation='relu'))\n",
    "model.add(layers.Dense(64,activation='relu'))\n",
    "model.add(layers.Dense(32,activation='relu'))\n",
    "model.add(layers.Dense(10,activation='softmax'))"
   ]
  },
  {
   "cell_type": "code",
   "execution_count": 18,
   "id": "304405f5",
   "metadata": {},
   "outputs": [],
   "source": [
    "model.compile(optimizer='adam',\n",
    "             loss='sparse_categorical_crossentropy',\n",
    "             metrics=['acc'])"
   ]
  },
  {
   "cell_type": "code",
   "execution_count": 19,
   "id": "48ffafae",
   "metadata": {},
   "outputs": [
    {
     "name": "stdout",
     "output_type": "stream",
     "text": [
      "Epoch 1/50\n",
      "118/118 [==============================] - 3s 29ms/step - loss: 1.4881 - acc: 0.7128 - val_loss: 0.2361 - val_acc: 0.9328\n",
      "Epoch 2/50\n",
      "118/118 [==============================] - 3s 27ms/step - loss: 0.2421 - acc: 0.9313 - val_loss: 0.1695 - val_acc: 0.9519\n",
      "Epoch 3/50\n",
      "118/118 [==============================] - 3s 25ms/step - loss: 0.1605 - acc: 0.9539 - val_loss: 0.1294 - val_acc: 0.9641\n",
      "Epoch 4/50\n",
      "118/118 [==============================] - 3s 26ms/step - loss: 0.1204 - acc: 0.9648 - val_loss: 0.1083 - val_acc: 0.9684\n",
      "Epoch 5/50\n",
      "118/118 [==============================] - 3s 26ms/step - loss: 0.0919 - acc: 0.9728 - val_loss: 0.1026 - val_acc: 0.9711\n",
      "Epoch 6/50\n",
      "118/118 [==============================] - 3s 26ms/step - loss: 0.0770 - acc: 0.9770 - val_loss: 0.0985 - val_acc: 0.9721\n",
      "Epoch 7/50\n",
      "118/118 [==============================] - 3s 26ms/step - loss: 0.0606 - acc: 0.9810 - val_loss: 0.1025 - val_acc: 0.9727\n",
      "Epoch 8/50\n",
      "118/118 [==============================] - 3s 26ms/step - loss: 0.0529 - acc: 0.9835 - val_loss: 0.1002 - val_acc: 0.9738\n",
      "Epoch 9/50\n",
      "118/118 [==============================] - 3s 28ms/step - loss: 0.0450 - acc: 0.9857 - val_loss: 0.0924 - val_acc: 0.9759\n",
      "Epoch 10/50\n",
      "118/118 [==============================] - 3s 28ms/step - loss: 0.0402 - acc: 0.9875 - val_loss: 0.1025 - val_acc: 0.9740\n",
      "Epoch 11/50\n",
      "118/118 [==============================] - 3s 28ms/step - loss: 0.0368 - acc: 0.9883 - val_loss: 0.0938 - val_acc: 0.9761\n",
      "Epoch 12/50\n",
      "118/118 [==============================] - 3s 28ms/step - loss: 0.0331 - acc: 0.9891 - val_loss: 0.1123 - val_acc: 0.9736\n",
      "Epoch 13/50\n",
      "118/118 [==============================] - 3s 29ms/step - loss: 0.0320 - acc: 0.9901 - val_loss: 0.1029 - val_acc: 0.9773\n",
      "Epoch 14/50\n",
      "118/118 [==============================] - 3s 28ms/step - loss: 0.0250 - acc: 0.9921 - val_loss: 0.1000 - val_acc: 0.9780\n",
      "Epoch 15/50\n",
      "118/118 [==============================] - 3s 28ms/step - loss: 0.0249 - acc: 0.9921 - val_loss: 0.0978 - val_acc: 0.9775\n",
      "Epoch 16/50\n",
      "118/118 [==============================] - 3s 28ms/step - loss: 0.0314 - acc: 0.9905 - val_loss: 0.0978 - val_acc: 0.9762\n",
      "Epoch 17/50\n",
      "118/118 [==============================] - 3s 28ms/step - loss: 0.0222 - acc: 0.9931 - val_loss: 0.1078 - val_acc: 0.9764\n",
      "Epoch 18/50\n",
      "118/118 [==============================] - 3s 29ms/step - loss: 0.0285 - acc: 0.9912 - val_loss: 0.1028 - val_acc: 0.9785\n",
      "Epoch 19/50\n",
      "118/118 [==============================] - 3s 28ms/step - loss: 0.0254 - acc: 0.9920 - val_loss: 0.0895 - val_acc: 0.9792\n",
      "Epoch 20/50\n",
      "118/118 [==============================] - 3s 28ms/step - loss: 0.0217 - acc: 0.9935 - val_loss: 0.0927 - val_acc: 0.9800\n",
      "Epoch 21/50\n",
      "118/118 [==============================] - 3s 28ms/step - loss: 0.0188 - acc: 0.9943 - val_loss: 0.1008 - val_acc: 0.9766\n",
      "Epoch 22/50\n",
      "118/118 [==============================] - 3s 28ms/step - loss: 0.0215 - acc: 0.9932 - val_loss: 0.0984 - val_acc: 0.9782\n",
      "Epoch 23/50\n",
      "118/118 [==============================] - 3s 29ms/step - loss: 0.0191 - acc: 0.9938 - val_loss: 0.1096 - val_acc: 0.9759\n",
      "Epoch 24/50\n",
      "118/118 [==============================] - 3s 29ms/step - loss: 0.0181 - acc: 0.9944 - val_loss: 0.1062 - val_acc: 0.9776\n",
      "Epoch 25/50\n",
      "118/118 [==============================] - 3s 28ms/step - loss: 0.0171 - acc: 0.9947 - val_loss: 0.1050 - val_acc: 0.9786\n",
      "Epoch 26/50\n",
      "118/118 [==============================] - 3s 28ms/step - loss: 0.0177 - acc: 0.9945 - val_loss: 0.1145 - val_acc: 0.9773\n",
      "Epoch 27/50\n",
      "118/118 [==============================] - 3s 29ms/step - loss: 0.0158 - acc: 0.9949 - val_loss: 0.1026 - val_acc: 0.9782\n",
      "Epoch 28/50\n",
      "118/118 [==============================] - 3s 29ms/step - loss: 0.0246 - acc: 0.9926 - val_loss: 0.0990 - val_acc: 0.9796\n",
      "Epoch 29/50\n",
      "118/118 [==============================] - 4s 30ms/step - loss: 0.0167 - acc: 0.9952 - val_loss: 0.0996 - val_acc: 0.9789\n",
      "Epoch 30/50\n",
      "118/118 [==============================] - 3s 29ms/step - loss: 0.0160 - acc: 0.9955 - val_loss: 0.0971 - val_acc: 0.9801\n",
      "Epoch 31/50\n",
      "118/118 [==============================] - 3s 29ms/step - loss: 0.0181 - acc: 0.9944 - val_loss: 0.1205 - val_acc: 0.9772\n",
      "Epoch 32/50\n",
      "118/118 [==============================] - 3s 29ms/step - loss: 0.0197 - acc: 0.9944 - val_loss: 0.1020 - val_acc: 0.9795\n",
      "Epoch 33/50\n",
      "118/118 [==============================] - 3s 29ms/step - loss: 0.0149 - acc: 0.9954 - val_loss: 0.1028 - val_acc: 0.9787\n",
      "Epoch 34/50\n",
      "118/118 [==============================] - 3s 29ms/step - loss: 0.0136 - acc: 0.9958 - val_loss: 0.0967 - val_acc: 0.9812\n",
      "Epoch 35/50\n",
      "118/118 [==============================] - 3s 29ms/step - loss: 0.0133 - acc: 0.9963 - val_loss: 0.1104 - val_acc: 0.9777\n",
      "Epoch 36/50\n",
      "118/118 [==============================] - 3s 29ms/step - loss: 0.0139 - acc: 0.9958 - val_loss: 0.1164 - val_acc: 0.9789\n",
      "Epoch 37/50\n",
      "118/118 [==============================] - 4s 30ms/step - loss: 0.0185 - acc: 0.9945 - val_loss: 0.1009 - val_acc: 0.9798\n",
      "Epoch 38/50\n",
      "118/118 [==============================] - 3s 28ms/step - loss: 0.0160 - acc: 0.9954 - val_loss: 0.1009 - val_acc: 0.9808\n",
      "Epoch 39/50\n",
      "118/118 [==============================] - 3s 28ms/step - loss: 0.0145 - acc: 0.9958 - val_loss: 0.1083 - val_acc: 0.9792\n",
      "Epoch 40/50\n",
      "118/118 [==============================] - 3s 28ms/step - loss: 0.0150 - acc: 0.9956 - val_loss: 0.1139 - val_acc: 0.9778\n",
      "Epoch 41/50\n",
      "118/118 [==============================] - 3s 28ms/step - loss: 0.0160 - acc: 0.9951 - val_loss: 0.1162 - val_acc: 0.9771\n",
      "Epoch 42/50\n",
      "118/118 [==============================] - 3s 28ms/step - loss: 0.0133 - acc: 0.9959 - val_loss: 0.1172 - val_acc: 0.9788\n",
      "Epoch 43/50\n",
      "118/118 [==============================] - 3s 28ms/step - loss: 0.0189 - acc: 0.9944 - val_loss: 0.1064 - val_acc: 0.9766\n",
      "Epoch 44/50\n",
      "118/118 [==============================] - 3s 29ms/step - loss: 0.0140 - acc: 0.9960 - val_loss: 0.1178 - val_acc: 0.9786\n",
      "Epoch 45/50\n",
      "118/118 [==============================] - 3s 29ms/step - loss: 0.0138 - acc: 0.9962 - val_loss: 0.1142 - val_acc: 0.9794\n",
      "Epoch 46/50\n",
      "118/118 [==============================] - 3s 29ms/step - loss: 0.0100 - acc: 0.9970 - val_loss: 0.1118 - val_acc: 0.9816\n",
      "Epoch 47/50\n",
      "118/118 [==============================] - 3s 28ms/step - loss: 0.0098 - acc: 0.9970 - val_loss: 0.1275 - val_acc: 0.9761\n",
      "Epoch 48/50\n",
      "118/118 [==============================] - 3s 29ms/step - loss: 0.0131 - acc: 0.9963 - val_loss: 0.1045 - val_acc: 0.9806\n",
      "Epoch 49/50\n",
      "118/118 [==============================] - 3s 29ms/step - loss: 0.0083 - acc: 0.9976 - val_loss: 0.1227 - val_acc: 0.9803\n",
      "Epoch 50/50\n",
      "118/118 [==============================] - 3s 29ms/step - loss: 0.0101 - acc: 0.9972 - val_loss: 0.1091 - val_acc: 0.9798\n"
     ]
    },
    {
     "data": {
      "text/plain": [
       "<tensorflow.python.keras.callbacks.History at 0x272b9cb5580>"
      ]
     },
     "execution_count": 19,
     "metadata": {},
     "output_type": "execute_result"
    }
   ],
   "source": [
    "model.fit(train_image,train_label,epochs=50,batch_size=512, validation_data=(test_image,test_label)) "
   ]
  },
  {
   "cell_type": "code",
   "execution_count": 20,
   "id": "66fb95bb",
   "metadata": {},
   "outputs": [
    {
     "name": "stdout",
     "output_type": "stream",
     "text": [
      "313/313 [==============================] - 1s 2ms/step - loss: 0.1091 - acc: 0.9798A: 0s - loss: 0.1095 - acc: 0.97\n"
     ]
    },
    {
     "data": {
      "text/plain": [
       "[0.10908444970846176, 0.9797999858856201]"
      ]
     },
     "execution_count": 20,
     "metadata": {},
     "output_type": "execute_result"
    }
   ],
   "source": [
    "model.evaluate(test_image,test_label)"
   ]
  },
  {
   "cell_type": "code",
   "execution_count": null,
   "id": "a43a888d",
   "metadata": {},
   "outputs": [],
   "source": []
  }
 ],
 "metadata": {
  "kernelspec": {
   "display_name": "Python 3",
   "language": "python",
   "name": "python3"
  },
  "language_info": {
   "codemirror_mode": {
    "name": "ipython",
    "version": 3
   },
   "file_extension": ".py",
   "mimetype": "text/x-python",
   "name": "python",
   "nbconvert_exporter": "python",
   "pygments_lexer": "ipython3",
   "version": "3.8.8"
  }
 },
 "nbformat": 4,
 "nbformat_minor": 5
}
